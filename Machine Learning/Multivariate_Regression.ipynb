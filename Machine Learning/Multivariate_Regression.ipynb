{
 "cells": [
  {
   "cell_type": "code",
   "execution_count": 1,
   "metadata": {},
   "outputs": [
    {
     "name": "stdout",
     "output_type": "stream",
     "text": [
      "This is the cost function against number of iterations\n"
     ]
    },
    {
     "data": {
      "image/png": "[encoded data removed]",
      "text/plain": [
       "<Figure size 432x288 with 1 Axes>"
      ]
     },
     "metadata": {
      "needs_background": "light"
     },
     "output_type": "display_data"
    }
   ],
   "source": [
    "import numpy as np\n",
    "import matplotlib.pyplot as plt    \n",
    "x=np.array([0, 1, 2, 3, 4, 5, 6, 7, 8,10,11])\n",
    "x1=np.array([1, 2, 3, 4, 5, 6, 7, 8, 9,10,11])\n",
    "y=np.array([1, 3, 2, 5, 7, 8, 8, 9, 10,14,15])\n",
    "iters=1000\n",
    "cost_list=[]\n",
    "def linear_regression(x,x1, y, m_current=0,m1_current=0, b_current=0, iters=1000, learning_rate=0.0001):  \n",
    "    N = len(y)\n",
    "    for i in range(iters):\n",
    "        y_current = (m_current * x) +(m1_current * x1) + b_current\n",
    "        cost = sum([data**2 for data in (y-y_current)]) / N\n",
    "        cost_list.append(cost)    \n",
    "        m_gradient = -(2/N) * sum(x * (y - y_current))\n",
    "        m1_gradient = -(2/N) * sum(x1 * (y - y_current))\n",
    "        b_gradient = -(2/N) * sum(y - y_current)\n",
    "        m_current = m_current - (learning_rate * m_gradient)\n",
    "        m1_current = m1_current - (learning_rate * m1_gradient)\n",
    "        b_current = b_current - (learning_rate * b_gradient)\n",
    "    return cost_list   \n",
    "\n",
    "z=linear_regression(x,x1, y, m_current=0,m1_current=0, b_current=0, iters=1000, learning_rate=0.0001)  \n",
    "plt.plot(list(range(iters)),z, '-r') \n",
    "print(\"This is the cost function against number of iterations\")\n",
    "plt.show()"
   ]
  },
  {
   "cell_type": "code",
   "execution_count": null,
   "metadata": {},
   "outputs": [],
   "source": []
  }
 ],
 "metadata": {
  "kernelspec": {
   "display_name": "Python 3",
   "language": "python",
   "name": "python3"
  },
  "language_info": {
   "codemirror_mode": {
    "name": "ipython",
    "version": 3
   },
   "file_extension": ".py",
   "mimetype": "text/x-python",
   "name": "python",
   "nbconvert_exporter": "python",
   "pygments_lexer": "ipython3",
   "version": "3.8.5"
  }
 },
 "nbformat": 4,
 "nbformat_minor": 4
}
